{
  "nbformat": 4,
  "nbformat_minor": 0,
  "metadata": {
    "colab": {
      "provenance": [],
      "collapsed_sections": []
    },
    "kernelspec": {
      "name": "python3",
      "display_name": "Python 3"
    },
    "language_info": {
      "name": "python"
    }
  },
  "cells": [
    {
      "cell_type": "markdown",
      "source": [
        "#### Importing the needed Modules/ Libraries"
      ],
      "metadata": {
        "id": "RJFplI6we40N"
      }
    },
    {
      "cell_type": "code",
      "execution_count": 1,
      "metadata": {
        "id": "sTRBt0HMbuvS"
      },
      "outputs": [],
      "source": [
        "import numpy as np\n",
        "import pandas as pd\n",
        "from sklearn.feature_extraction.text import CountVectorizer, TfidfVectorizer\n",
        "from sklearn import metrics\n",
        "import string\n",
        "import spacy\n",
        "import seaborn as sns\n",
        "import matplotlib.pyplot as plt\n",
        "np.random.seed(42)"
      ]
    },
    {
      "cell_type": "markdown",
      "source": [
        "#### Loading the Dataset & the NLP model"
      ],
      "metadata": {
        "id": "F9X0qsuue_L9"
      }
    },
    {
      "cell_type": "code",
      "source": [
        "data = pd.read_csv(\"toxic_comments.csv\")\n",
        "data = data.iloc[0:1000, :]\n",
        "nlp = spacy.load(\"en_core_web_sm\")\n",
        "stop_words = nlp.Defaults.stop_words\n",
        "punctuations = string.punctuation"
      ],
      "metadata": {
        "id": "5uDKUZ46fFXZ"
      },
      "execution_count": 2,
      "outputs": []
    },
    {
      "cell_type": "code",
      "source": [
        "# Visualizing ratio of toxic vs non-toxic comments\n",
        "sns.countplot(x='toxic', data=data, palette='Set1')\n",
        "plt.show()"
      ],
      "metadata": {
        "colab": {
          "base_uri": "https://localhost:8080/",
          "height": 279
        },
        "id": "sucUZlg9wUEf",
        "outputId": "ce76be0e-59b4-4f62-8f3b-d6bbd830fdf4"
      },
      "execution_count": 3,
      "outputs": [
        {
          "output_type": "display_data",
          "data": {
            "text/plain": [
              "<Figure size 432x288 with 1 Axes>"
            ],
            "image/png": "[encoded data removed]"
          },
          "metadata": {
            "needs_background": "light"
          }
        }
      ]
    },
    {
      "cell_type": "markdown",
      "source": [
        "#### Creating our tokenizer to remove uneccessary words and characters."
      ],
      "metadata": {
        "id": "Erc4q0-Zn7Sa"
      }
    },
    {
      "cell_type": "code",
      "source": [
        "def tokenizer(sentence):\n",
        "  doc = nlp(sentence)\n",
        "  tokens = [word.lemma_.lower().strip() for word in doc]\n",
        "  tokens = [word for word in tokens if word not in stop_words and word not in punctuations]\n",
        "  return tokens"
      ],
      "metadata": {
        "id": "ct2oqptHmm8O"
      },
      "execution_count": 4,
      "outputs": []
    },
    {
      "cell_type": "markdown",
      "source": [
        "### Vectorizing our text data into numbers for NLP"
      ],
      "metadata": {
        "id": "rVq1p7VCo4qB"
      }
    },
    {
      "cell_type": "code",
      "source": [
        "count_vector = CountVectorizer(tokenizer=tokenizer)\n",
        "tfidf_vector = TfidfVectorizer(tokenizer=tokenizer)\n",
        "# test to understand Tokenization & Vectorization\n",
        "test_example = count_vector.fit_transform([\"I loved chicken and rice. but to adjucate the lamb is to characterize the wolf. also chicken\", \n",
        "                            \"The chicken and the lamb were good.\"]).toarray()\n",
        "print(f'Sentence 1 tokenized: {tokenizer(\"I loved chicken and rice. but to adjucate the lamb is to characterize the wolf. also chicken\")}')\n",
        "print(f'Sentence 2 tokenized: {tokenizer(\"The chicken and the lamb were good.\")}')\n",
        "print(f'List of all features: {count_vector.get_feature_names_out()}')\n",
        "print(f'Frequency of each word: {count_vector.vocabulary_}')\n",
        "print(f'Vectorized Output: {test_example}')\n"
      ],
      "metadata": {
        "colab": {
          "base_uri": "https://localhost:8080/"
        },
        "id": "1vaZ7-lBpEHT",
        "outputId": "e894d9d0-0419-4ef9-c623-59fbf2721632"
      },
      "execution_count": 5,
      "outputs": [
        {
          "output_type": "stream",
          "name": "stdout",
          "text": [
            "Sentence 1 tokenized: ['love', 'chicken', 'rice', 'adjucate', 'lamb', 'characterize', 'wolf', 'chicken']\n",
            "Sentence 2 tokenized: ['chicken', 'lamb', 'good']\n",
            "List of all features: ['adjucate' 'characterize' 'chicken' 'good' 'lamb' 'love' 'rice' 'wolf']\n",
            "Frequency of each word: {'love': 5, 'chicken': 2, 'rice': 6, 'adjucate': 0, 'lamb': 4, 'characterize': 1, 'wolf': 7, 'good': 3}\n",
            "Vectorized Output: [[1 1 2 0 1 1 1 1]\n",
            " [0 0 1 1 1 0 0 0]]\n"
          ]
        }
      ]
    },
    {
      "cell_type": "markdown",
      "source": [
        "##### Splitting our dataset into Training and Test"
      ],
      "metadata": {
        "id": "6pUgHJtOwwYW"
      }
    },
    {
      "cell_type": "code",
      "source": [
        "from sklearn.model_selection import train_test_split\n",
        "\n",
        "X, y = data['text'], data['toxic']\n",
        "X_train, X_test, y_train, y_test = train_test_split(X, y, test_size=0.2, stratify=y)\n",
        "\n",
        "X_train_vectors = count_vector.fit_transform(X_train).toarray()\n",
        "X_test_vectors = count_vector.transform(X_test).toarray()\n",
        "\n",
        "X_train_vectors_tfid = tfidf_vector.fit_transform(X_train).toarray()\n",
        "X_test_vectors_tfid = tfidf_vector.transform(X_test).toarray()"
      ],
      "metadata": {
        "id": "e6RKo8egv9yG"
      },
      "execution_count": 6,
      "outputs": []
    },
    {
      "cell_type": "markdown",
      "source": [
        "#### Logistic Regression Method"
      ],
      "metadata": {
        "id": "eGni4e-QxQT4"
      }
    },
    {
      "cell_type": "code",
      "source": [
        "from sklearn.linear_model import LogisticRegression\n",
        "lr, lr_tfid = LogisticRegression(), LogisticRegression()\n",
        "lr.fit(X_train_vectors, y_train)\n",
        "y_pred = lr.predict(X_test_vectors)\n",
        "print(f\"Accuracy is: {metrics.accuracy_score(y_pred, y_test)}\")\n",
        "\n",
        "lr_tfid.fit(X_train_vectors_tfid, y_train)\n",
        "y_pred_tfid = lr_tfid.predict(X_test_vectors_tfid)\n",
        "print(f\"Accuracy with TFID is: {metrics.accuracy_score(y_pred_tfid, y_test)}\")"
      ],
      "metadata": {
        "colab": {
          "base_uri": "https://localhost:8080/"
        },
        "id": "TCwqrIVGsAoB",
        "outputId": "22437e9f-d8af-4f89-b105-cc6aa4f049e0"
      },
      "execution_count": 7,
      "outputs": [
        {
          "output_type": "stream",
          "name": "stdout",
          "text": [
            "Accuracy is: 0.925\n",
            "Accuracy with TFID is: 0.9\n"
          ]
        }
      ]
    },
    {
      "cell_type": "markdown",
      "source": [
        "#### K- Nearest neighbors Classifier Method"
      ],
      "metadata": {
        "id": "V3wBD4lcz8Kh"
      }
    },
    {
      "cell_type": "code",
      "source": [
        "from sklearn.neighbors import KNeighborsClassifier\n",
        "knn, knn_tfid = KNeighborsClassifier(), KNeighborsClassifier()\n",
        "knn.fit(X_train_vectors, y_train)\n",
        "y_pred = knn.predict(X_test_vectors)\n",
        "print(f\"Accuracy is: {metrics.accuracy_score(y_pred, y_test)}\")\n",
        "\n",
        "knn_tfid.fit(X_train_vectors_tfid, y_train)\n",
        "y_pred_tfid = knn_tfid.predict(X_test_vectors_tfid)\n",
        "print(f\"Accuracy with TFID is: {metrics.accuracy_score(y_pred_tfid, y_test)}\")"
      ],
      "metadata": {
        "colab": {
          "base_uri": "https://localhost:8080/"
        },
        "id": "VXdQQYScz_sy",
        "outputId": "6d1f09d1-f098-44f4-e8d2-23ad340a63c5"
      },
      "execution_count": 8,
      "outputs": [
        {
          "output_type": "stream",
          "name": "stdout",
          "text": [
            "Accuracy is: 0.905\n",
            "Accuracy with TFID is: 0.92\n"
          ]
        }
      ]
    },
    {
      "cell_type": "markdown",
      "source": [
        "#### Gradient Booster Classifier Method"
      ],
      "metadata": {
        "id": "TYmVsPP805Mi"
      }
    },
    {
      "cell_type": "code",
      "source": [
        "from sklearn.ensemble import GradientBoostingClassifier\n",
        "gb, gb_tfid = GradientBoostingClassifier(random_state=0), GradientBoostingClassifier(random_state=0)\n",
        "gb.fit(X_train_vectors, y_train)\n",
        "y_pred = gb.predict(X_test_vectors)\n",
        "print(f\"Accuracy is: {metrics.accuracy_score(y_pred, y_test)}\")\n",
        "\n",
        "gb_tfid.fit(X_train_vectors_tfid, y_train)\n",
        "y_pred_tfid = gb_tfid.predict(X_test_vectors_tfid)\n",
        "print(f\"Accuracy with TFID is: {metrics.accuracy_score(y_pred_tfid, y_test)}\")"
      ],
      "metadata": {
        "colab": {
          "base_uri": "https://localhost:8080/"
        },
        "id": "GbVFoRFp07jm",
        "outputId": "b81aa058-05f3-4cb3-d3ec-2df4308a1d72"
      },
      "execution_count": 9,
      "outputs": [
        {
          "output_type": "stream",
          "name": "stdout",
          "text": [
            "Accuracy is: 0.925\n",
            "Accuracy with TFID is: 0.93\n"
          ]
        }
      ]
    },
    {
      "cell_type": "markdown",
      "source": [
        "#### Random Forest Classifier Method"
      ],
      "metadata": {
        "id": "voBEQhar9tWI"
      }
    },
    {
      "cell_type": "code",
      "source": [
        "from sklearn.ensemble import RandomForestClassifier\n",
        "rf, rf_tfid = RandomForestClassifier(), RandomForestClassifier()\n",
        "rf.fit(X_train_vectors, y_train)\n",
        "y_pred = rf.predict(X_test_vectors)\n",
        "print(f\"Accuracy is: {metrics.accuracy_score(y_pred, y_test)}\")\n",
        "\n",
        "rf_tfid.fit(X_train_vectors_tfid, y_train)\n",
        "y_pred_tfid = rf_tfid.predict(X_test_vectors_tfid)\n",
        "print(f\"Accuracy with TFID is: {metrics.accuracy_score(y_pred_tfid, y_test)}\")"
      ],
      "metadata": {
        "colab": {
          "base_uri": "https://localhost:8080/"
        },
        "id": "XIgU4zWj9v6Q",
        "outputId": "beaf831d-0cb5-461d-d8d1-23ac30b13cb1"
      },
      "execution_count": 10,
      "outputs": [
        {
          "output_type": "stream",
          "name": "stdout",
          "text": [
            "Accuracy is: 0.92\n",
            "Accuracy with TFID is: 0.915\n"
          ]
        }
      ]
    },
    {
      "cell_type": "markdown",
      "source": [
        "#### Naive Bayes Classifier Method"
      ],
      "metadata": {
        "id": "tlwp_KKL9yVV"
      }
    },
    {
      "cell_type": "code",
      "source": [
        "from sklearn.naive_bayes import GaussianNB\n",
        "nb, nb_tfid = GaussianNB(), GaussianNB()\n",
        "nb.fit(X_train_vectors, y_train)\n",
        "y_pred = nb.predict(X_test_vectors)\n",
        "print(f\"Accuracy is: {metrics.accuracy_score(y_pred, y_test)}\")\n",
        "\n",
        "nb_tfid.fit(X_train_vectors_tfid, y_train)\n",
        "y_pred_tfid = nb_tfid.predict(X_test_vectors_tfid)\n",
        "print(f\"Accuracy with TFID is: {metrics.accuracy_score(y_pred_tfid, y_test)}\")"
      ],
      "metadata": {
        "colab": {
          "base_uri": "https://localhost:8080/"
        },
        "id": "W6CroNNv-L0A",
        "outputId": "c627e4fa-ba3f-40e9-f598-7caffa8485dc"
      },
      "execution_count": 11,
      "outputs": [
        {
          "output_type": "stream",
          "name": "stdout",
          "text": [
            "Accuracy is: 0.835\n",
            "Accuracy with TFID is: 0.835\n"
          ]
        }
      ]
    },
    {
      "cell_type": "markdown",
      "source": [
        "### Decision Tree Classifier Method"
      ],
      "metadata": {
        "id": "ZJVmZnwi_K-x"
      }
    },
    {
      "cell_type": "code",
      "source": [
        "from sklearn.tree import DecisionTreeClassifier\n",
        "dt, dt_tfid = DecisionTreeClassifier(), DecisionTreeClassifier()\n",
        "dt.fit(X_train_vectors, y_train)\n",
        "y_pred = dt.predict(X_test_vectors)\n",
        "print(f\"Accuracy is: {metrics.accuracy_score(y_pred, y_test)}\")\n",
        "\n",
        "dt_tfid.fit(X_train_vectors_tfid, y_train)\n",
        "y_pred_tfid = dt_tfid.predict(X_test_vectors_tfid)\n",
        "print(f\"Accuracy with TFID is: {metrics.accuracy_score(y_pred_tfid, y_test)}\")"
      ],
      "metadata": {
        "colab": {
          "base_uri": "https://localhost:8080/"
        },
        "id": "BMDKbkiI_OjX",
        "outputId": "7e73e831-5e30-4b14-81cf-d4a2a062d9c2"
      },
      "execution_count": 12,
      "outputs": [
        {
          "output_type": "stream",
          "name": "stdout",
          "text": [
            "Accuracy is: 0.9\n",
            "Accuracy with TFID is: 0.91\n"
          ]
        }
      ]
    }
  ]
}